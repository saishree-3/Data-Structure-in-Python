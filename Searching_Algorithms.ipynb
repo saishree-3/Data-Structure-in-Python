{
 "cells": [
  {
   "cell_type": "markdown",
   "metadata": {},
   "source": [
    "## Binary Search - O(log n)"
   ]
  },
  {
   "cell_type": "markdown",
   "metadata": {},
   "source": [
    "iteration"
   ]
  },
  {
   "cell_type": "code",
   "execution_count": 8,
   "metadata": {},
   "outputs": [
    {
     "name": "stdout",
     "output_type": "stream",
     "text": [
      "4 is found at 1\n",
      "[3, 4, 8, 10, 15, 19, 21, 23, 27, 29]\n"
     ]
    }
   ],
   "source": [
    "from random import randint\n",
    "def bisec_iter(n,arr):\n",
    "    start = 0\n",
    "    stop = len(arr)-1\n",
    "    while start <= stop :#essential to give lessthanequalto\n",
    "        mid = (start+stop) // 2\n",
    "        if n == arr[mid] :\n",
    "            return f\"{n} is found at {mid+1}\"\n",
    "        elif n > arr[mid] :\n",
    "            start = mid+1\n",
    "        else :\n",
    "            stop = mid-1\n",
    "            \n",
    "    return f\"{n} not found\"\n",
    "\n",
    "l = [randint(1,30) for i in range(10)]\n",
    "print (bisec_iter(4,sorted(l)))  #only works for sorted data\n",
    "print (sorted(l))       "
   ]
  },
  {
   "cell_type": "markdown",
   "metadata": {},
   "source": [
    "Recursion"
   ]
  },
  {
   "cell_type": "code",
   "execution_count": 21,
   "metadata": {},
   "outputs": [
    {
     "name": "stdout",
     "output_type": "stream",
     "text": [
      "3 is found at 2\n",
      "[3, 3, 8, 8, 11, 12, 16, 16, 17, 26]\n"
     ]
    }
   ],
   "source": [
    "from random import randint\n",
    "def bisec_rec(n, arr, start, stop):\n",
    "    if start > stop :\n",
    "        return f\"{n} not found in {arr}\"\n",
    "    else:\n",
    "        mid = (start+stop) // 2\n",
    "        if n == arr[mid] :\n",
    "            return f\"{n} is found at {mid+1}\"\n",
    "        elif n > arr[mid] :\n",
    "            return bisec_rec(n, arr, mid+1, stop)\n",
    "        else :\n",
    "            return bisec_rec(n, arr, start, mid-1)\n",
    "            \n",
    "\n",
    "l = [randint(1,30) for i in range(10)]\n",
    "print (bisec_rec(3,sorted(l),0,len(l)-1))  #also sending start,stop\n",
    "print (sorted(l))       "
   ]
  },
  {
   "cell_type": "code",
   "execution_count": null,
   "metadata": {},
   "outputs": [],
   "source": [
    "#another Rec Binary\n",
    "def rec_bin_search(arr,ele):\n",
    "    \n",
    "    # Base Case!\n",
    "    if len(arr) == 0:\n",
    "        return False\n",
    "    \n",
    "    # Recursive Case\n",
    "    else:\n",
    "        \n",
    "        mid = len(arr)/2\n",
    "        \n",
    "        # If match found\n",
    "        if arr[mid]==ele:\n",
    "            return True\n",
    "        \n",
    "        else:\n",
    "            \n",
    "            # Call again on frst half\n",
    "            if ele<arr[mid]:\n",
    "                return rec_bin_search(arr[:mid],ele)\n",
    "            \n",
    "            # Or call on second half\n",
    "            else:\n",
    "                return rec_bin_search(arr[mid+1:],ele)"
   ]
  },
  {
   "cell_type": "markdown",
   "metadata": {},
   "source": [
    "## Linear Search - O(n)"
   ]
  },
  {
   "cell_type": "code",
   "execution_count": 4,
   "metadata": {},
   "outputs": [
    {
     "name": "stdout",
     "output_type": "stream",
     "text": [
      "Enter a number9\n",
      "Found at position 6\n"
     ]
    }
   ],
   "source": [
    "def linear_search(l,n):\n",
    "    flag = 0\n",
    "    for i in l:\n",
    "        if i == n:\n",
    "            print (\"Found at position\", l.index(i)+1)\n",
    "            flag = 1\n",
    "            break\n",
    "    if flag == 0:\n",
    "        print (n,\"not found!\")\n",
    "        \n",
    "l = [111, 56, 78, 34, 25, 9, 100] #can be unsorted\n",
    "n = int(input(\"Enter a number\"))\n",
    "linear_search(l,n)"
   ]
  }
 ],
 "metadata": {
  "kernelspec": {
   "display_name": "Python 3",
   "language": "python",
   "name": "python3"
  },
  "language_info": {
   "codemirror_mode": {
    "name": "ipython",
    "version": 3
   },
   "file_extension": ".py",
   "mimetype": "text/x-python",
   "name": "python",
   "nbconvert_exporter": "python",
   "pygments_lexer": "ipython3",
   "version": "3.6.9"
  }
 },
 "nbformat": 4,
 "nbformat_minor": 2
}
