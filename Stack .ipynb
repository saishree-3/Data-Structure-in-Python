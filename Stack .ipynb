{
 "cells": [
  {
   "cell_type": "markdown",
   "metadata": {},
   "source": [
    "## Stack - LIFO"
   ]
  },
  {
   "cell_type": "code",
   "execution_count": 13,
   "metadata": {
    "scrolled": true
   },
   "outputs": [
    {
     "name": "stdout",
     "output_type": "stream",
     "text": [
      "[3, 4, 7]\n"
     ]
    }
   ],
   "source": [
    "class Stack:\n",
    "    \n",
    "    def __init__(self):\n",
    "        self.items = []\n",
    "\n",
    "    def isEmpty(self):\n",
    "        return self.items == []\n",
    "\n",
    "    def push(self, item):\n",
    "        self.items.append(item)\n",
    "\n",
    "    def pop(self):\n",
    "        return self.items.pop()\n",
    "    \n",
    "    def peek(self):\n",
    "        return self.items[len(self.items)-1]\n",
    "\n",
    "    def size(self):\n",
    "        return len(self.items)\n",
    "    \n",
    "    def __str__(self):\n",
    "        return str(self.items)\n",
    "        \n",
    "s = Stack()\n",
    "s.push(3)\n",
    "s.push(4)\n",
    "s.push(7)\n",
    "print(s)"
   ]
  },
  {
   "cell_type": "code",
   "execution_count": 14,
   "metadata": {},
   "outputs": [
    {
     "data": {
      "text/plain": [
       "7"
      ]
     },
     "execution_count": 14,
     "metadata": {},
     "output_type": "execute_result"
    }
   ],
   "source": [
    "s.pop()"
   ]
  },
  {
   "cell_type": "code",
   "execution_count": 15,
   "metadata": {},
   "outputs": [
    {
     "data": {
      "text/plain": [
       "4"
      ]
     },
     "execution_count": 15,
     "metadata": {},
     "output_type": "execute_result"
    }
   ],
   "source": [
    "s.peek()"
   ]
  },
  {
   "cell_type": "code",
   "execution_count": 16,
   "metadata": {},
   "outputs": [
    {
     "name": "stdout",
     "output_type": "stream",
     "text": [
      "[3, 4]\n"
     ]
    }
   ],
   "source": [
    "print (s)"
   ]
  },
  {
   "cell_type": "markdown",
   "metadata": {},
   "source": [
    "## Implementing Stack using deque"
   ]
  },
  {
   "cell_type": "code",
   "execution_count": 9,
   "metadata": {},
   "outputs": [
    {
     "name": "stdout",
     "output_type": "stream",
     "text": [
      "www.google.com\n",
      "www.facebook.com\n",
      "www.youtube.com\n"
     ]
    }
   ],
   "source": [
    "from collections import deque\n",
    "class Stack:\n",
    "    def __init__(self):\n",
    "        self.itmes = deque()\n",
    "    \n",
    "    def push(self,data):\n",
    "        self.itmes.append(data)\n",
    "        \n",
    "    def pop(self):\n",
    "        return self.itmes.pop()\n",
    "        \n",
    "    def peek(self):\n",
    "        return self.itmes[-1]\n",
    "    \n",
    "    def is_empty(self):\n",
    "        return len(self.itmes) == 0\n",
    "\n",
    "    def len_itmes(self):\n",
    "        return len(self.itmes)\n",
    "    \n",
    "    def print_stack(self):\n",
    "        l = self.len_itmes()\n",
    "        for i in range(l):\n",
    "            print (self.itmes[i])\n",
    "            \n",
    "s = Stack()\n",
    "s.push(\"www.google.com\")\n",
    "s.push(\"www.facebook.com\")\n",
    "s.push(\"www.youtube.com\")\n",
    "s.print_stack()"
   ]
  },
  {
   "cell_type": "code",
   "execution_count": 10,
   "metadata": {},
   "outputs": [
    {
     "name": "stdout",
     "output_type": "stream",
     "text": [
      "www.youtube.com\n"
     ]
    }
   ],
   "source": [
    "print (s.peek())"
   ]
  },
  {
   "cell_type": "code",
   "execution_count": 11,
   "metadata": {},
   "outputs": [
    {
     "name": "stdout",
     "output_type": "stream",
     "text": [
      "www.youtube.com\n"
     ]
    }
   ],
   "source": [
    "print (s.pop())"
   ]
  },
  {
   "cell_type": "code",
   "execution_count": 12,
   "metadata": {},
   "outputs": [
    {
     "name": "stdout",
     "output_type": "stream",
     "text": [
      "www.google.com\n",
      "www.facebook.com\n"
     ]
    }
   ],
   "source": [
    "s.print_stack()"
   ]
  },
  {
   "cell_type": "markdown",
   "metadata": {},
   "source": [
    "## Blanced Paranthesis Check"
   ]
  },
  {
   "cell_type": "code",
   "execution_count": 17,
   "metadata": {},
   "outputs": [
    {
     "name": "stdout",
     "output_type": "stream",
     "text": [
      "True\n"
     ]
    }
   ],
   "source": [
    "class Stack:\n",
    "    \n",
    "    def __init__(self):\n",
    "        self.items = []\n",
    "\n",
    "    def isEmpty(self):\n",
    "        return self.items == []\n",
    "\n",
    "    def push(self, item):\n",
    "        self.items.append(item)\n",
    "\n",
    "    def pop(self):\n",
    "        return self.items.pop()\n",
    "    \n",
    "    def peek(self):\n",
    "        return self.items[len(self.items)-1]\n",
    "\n",
    "    \n",
    "def balance_check(s,p) :\n",
    "    \n",
    "    #edge check for even num of brackets \n",
    "    if len(p)%2 != 0:\n",
    "        return False\n",
    "    \n",
    "    i = 0\n",
    "    while i < len(p):\n",
    "        if s.isEmpty():\n",
    "            s.push(p[i])\n",
    "            i +=1\n",
    "        else :\n",
    "            if s.peek() == '[' and p[i] == ']' or s.peek() == '(' and p[i] == ')' or s.peek() == '{' and p[i] == '}':\n",
    "                s.pop()\n",
    "                i +=1\n",
    "            else :\n",
    "                s.push(p[i])\n",
    "                i +=1\n",
    "\n",
    "    if s.isEmpty() :\n",
    "        return True\n",
    "    else :\n",
    "        return False\n",
    "\n",
    "    \n",
    "        \n",
    "s = Stack()\n",
    "p = '[](){([[[]]])}'\n",
    "print (balance_check(s,p))"
   ]
  }
 ],
 "metadata": {
  "kernelspec": {
   "display_name": "Python 3",
   "language": "python",
   "name": "python3"
  },
  "language_info": {
   "codemirror_mode": {
    "name": "ipython",
    "version": 3
   },
   "file_extension": ".py",
   "mimetype": "text/x-python",
   "name": "python",
   "nbconvert_exporter": "python",
   "pygments_lexer": "ipython3",
   "version": "3.6.9"
  }
 },
 "nbformat": 4,
 "nbformat_minor": 2
}
