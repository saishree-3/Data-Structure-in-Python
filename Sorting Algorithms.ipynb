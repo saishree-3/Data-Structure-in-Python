{
 "cells": [
  {
   "cell_type": "markdown",
   "metadata": {},
   "source": [
    "## Bubble Sort - complexity n^2"
   ]
  },
  {
   "cell_type": "code",
   "execution_count": 43,
   "metadata": {},
   "outputs": [
    {
     "name": "stdout",
     "output_type": "stream",
     "text": [
      "[1, 7, 14, 40, 63]\n"
     ]
    }
   ],
   "source": [
    "from random import randint \n",
    "\n",
    "def bubble_sort(l):\n",
    "    swap_happened = True #to enter into the while\n",
    "    while swap_happened:\n",
    "        #print(l) - to see the list after each iteration\n",
    "        swap_happened = False #to exit the while\n",
    "        for num in range(len(l)-1):\n",
    "            if l[num] > l[num+1]:\n",
    "                swap_happened = True #to conitnue the while \n",
    "                l[num], l[num+1] = l[num+1], l[num]\n",
    "    print(l)\n",
    "    \n",
    "arr = [randint(1,100) for i in range(5)]\n",
    "bubble_sort(arr)\n"
   ]
  },
  {
   "cell_type": "markdown",
   "metadata": {},
   "source": [
    "## Selection Sort"
   ]
  },
  {
   "cell_type": "code",
   "execution_count": null,
   "metadata": {},
   "outputs": [],
   "source": [
    "from random import randint \n",
    "def selection_sort(l):\n",
    "    spot_marker = 0\n",
    "    while spot_marker < len(l):\n",
    "        print (l)\n",
    "        for num in range(spot_marker,len(l)):\n",
    "            if l[spot_marker] > l[num]:\n",
    "                l[spot_marker], l[num] = l[num], l[spot_marker]\n",
    "        spot_marker+=1\n",
    "\n",
    "arr = [randint(1,100) for i in range(10)]\n",
    "selection_sort(arr)"
   ]
  },
  {
   "cell_type": "markdown",
   "metadata": {},
   "source": [
    "## Insertion Sort"
   ]
  },
  {
   "cell_type": "code",
   "execution_count": 1,
   "metadata": {},
   "outputs": [
    {
     "name": "stdout",
     "output_type": "stream",
     "text": [
      "[68, 69, 7, 33, 62, 25, 88, 15, 68, 19]\n"
     ]
    },
    {
     "data": {
      "text/plain": [
       "[7, 15, 19, 25, 33, 62, 68, 68, 69, 88]"
      ]
     },
     "execution_count": 1,
     "metadata": {},
     "output_type": "execute_result"
    }
   ],
   "source": [
    "from random import randint \n",
    "def insertion_sort(l):\n",
    "    for key in range(1,len(l)):\n",
    "        j = key\n",
    "        while j>0 and l[j]<l[j-1] :\n",
    "            l[j], l[j-1] = l[j-1], l[j]\n",
    "            j-=1\n",
    "\n",
    "    return l\n",
    "\n",
    "arr = [randint(1,100) for i in range(10)]\n",
    "print (arr)\n",
    "insertion_sort(arr)"
   ]
  },
  {
   "cell_type": "markdown",
   "metadata": {},
   "source": [
    "## Shell Sort - optimization of Insertion Sort"
   ]
  },
  {
   "cell_type": "code",
   "execution_count": 9,
   "metadata": {},
   "outputs": [
    {
     "name": "stdout",
     "output_type": "stream",
     "text": [
      "[2, 4, 6, 7, 21, 23, 24, 45, 45, 67, 90]\n"
     ]
    }
   ],
   "source": [
    "  \n",
    "def shell_sort(arr): \n",
    "  \n",
    "    # Start with a big gap, then reduce the gap \n",
    "    n = len(arr) \n",
    "    gap = n//2\n",
    "    \n",
    "    while gap > 0: \n",
    "  \n",
    "        for i in range(gap,n): \n",
    "        \n",
    "            temp = arr[i] \n",
    "            j = i \n",
    "            while  j >= gap and arr[j-gap] >temp: \n",
    "                arr[j],arr[j-gap] = arr[j-gap],arr[j]\n",
    "                j -= gap \n",
    "\n",
    "        gap //= 2\n",
    "\n",
    "arr = [45,67,23,45,21,24,7,2,6,4,90]\n",
    "shell_sort(arr)\n",
    "print (arr)"
   ]
  },
  {
   "cell_type": "markdown",
   "metadata": {},
   "source": [
    "## Merge Sort"
   ]
  },
  {
   "cell_type": "code",
   "execution_count": 34,
   "metadata": {},
   "outputs": [
    {
     "name": "stdout",
     "output_type": "stream",
     "text": [
      "[3, 4, 5, 6, 7, 8, 10]\n",
      "0.0\n"
     ]
    }
   ],
   "source": [
    "import time\n",
    "def merge(l1,l2):\n",
    "    i=j=0\n",
    "    sorted_arr=[]\n",
    "    while i < len(l1) and j < len(l2) : #loop will stop at the len of shortest of two lists\n",
    "    \n",
    "        if l1[i] < l2[j] :\n",
    "            sorted_arr.append(l1[i])\n",
    "            i+=1\n",
    "        else :\n",
    "            sorted_arr.append(l2[j])\n",
    "            j+=1\n",
    "    if i < len(l1) : #should put if i < len(l1)\n",
    "        sorted_arr.extend(l1[i:])\n",
    "    else :\n",
    "        sorted_arr.extend(l2[j:])\n",
    "    \n",
    "    return sorted_arr\n",
    "\n",
    "def divide_recurs(l):\n",
    "    if len(l) < 2 :\n",
    "        return (l[:])\n",
    "    else :\n",
    "        mid = len(l)//2\n",
    "        l1 = divide_recurs(l[:mid])\n",
    "        l2 = divide_recurs(l[mid:])\n",
    "        return merge(l1,l2)\n",
    "\n",
    "arr = [10,8,6,7,4,3,5]\n",
    "t1 = time.process_time()\n",
    "print(divide_recurs(arr))\n",
    "t2 = time.process_time()\n",
    "print (t2-t1)"
   ]
  },
  {
   "cell_type": "markdown",
   "metadata": {},
   "source": [
    "## Quick Sort"
   ]
  },
  {
   "cell_type": "code",
   "execution_count": 31,
   "metadata": {},
   "outputs": [
    {
     "name": "stdout",
     "output_type": "stream",
     "text": [
      "[-3, -2, 0, 2, 4, 5, 6, 8, 8, 9, 10]\n"
     ]
    }
   ],
   "source": [
    "def quick_sort(arr):\n",
    "    if len(arr) < 2 :\n",
    "        return arr  #when the list is sorted - the equal_list will only contain pivot ele, hence arr len = 1\n",
    "    else :\n",
    "        pivot = arr[-1] #choosin the lastt element as pivot ele\n",
    "        small, equal, large = [], [], []\n",
    "        for num in arr :\n",
    "            if num < pivot :\n",
    "                small.append(num)\n",
    "            elif num == pivot :\n",
    "                equal.append(num)\n",
    "            else :\n",
    "                large.append(num)\n",
    "        return quick_sort(small) + equal + quick_sort(large) #concatenating lists\n",
    "\n",
    "arr = [8,4,6,2,9,8,5,-3,-2,0,10]\n",
    "print (quick_sort(arr))"
   ]
  }
 ],
 "metadata": {
  "kernelspec": {
   "display_name": "Python 3",
   "language": "python",
   "name": "python3"
  },
  "language_info": {
   "codemirror_mode": {
    "name": "ipython",
    "version": 3
   },
   "file_extension": ".py",
   "mimetype": "text/x-python",
   "name": "python",
   "nbconvert_exporter": "python",
   "pygments_lexer": "ipython3",
   "version": "3.6.9"
  }
 },
 "nbformat": 4,
 "nbformat_minor": 2
}
